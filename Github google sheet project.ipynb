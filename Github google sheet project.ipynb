{
 "cells": [
  {
   "cell_type": "markdown",
   "metadata": {},
   "source": [
    "For more information on oauth2client, see documentation here : https://github.com/googleapis/oauth2client/issues/401"
   ]
  },
  {
   "cell_type": "code",
   "execution_count": null,
   "metadata": {},
   "outputs": [],
   "source": [
    "#this library installation allows access and auth credentials to googles API\n",
    "pip install oauth2client==1.5.2"
   ]
  },
  {
   "cell_type": "code",
   "execution_count": null,
   "metadata": {},
   "outputs": [],
   "source": [
    "#packages that need to be installed to run program\n",
    "import gspread\n",
    "from google.oauth2 import service_account\n",
    "import pandas as pd\n",
    "import json\n",
    "import os"
   ]
  },
  {
   "cell_type": "code",
   "execution_count": null,
   "metadata": {},
   "outputs": [],
   "source": [
    "#DON'T EDIT SCOPE, IMPORT TO THE FUNCTIONALITY OF THE PROJECT, allows you to read and access the google sheet\n",
    "SCOPE = ['https://spreadsheets.google.com/feeds','https://www.googleapis.com/auth/drive']\n",
    "\n",
    "#KEY_FILE is the path to your public/private (JSON) key pair generated and downloaded onto your from the google developer console via selecting the SERVICE ACCOUNT ID option when creating a CLIENT ID\n",
    "KEY_FILE = ''\n",
    "\n",
    "#SPREADSHEET is the title of your google sheet document where you save the responses to the form. eg : 'Student information (Responses)'\n",
    "SPREADSHEET = 'Student information (Responses)'"
   ]
  },
  {
   "cell_type": "code",
   "execution_count": null,
   "metadata": {},
   "outputs": [],
   "source": [
    "#This reads in the JSON key\n",
    "json_key = json.load(open(KEY_FILE))\n",
    "\n",
    "#This reads in your credentials using the signed key\n",
    "credentials = service_account.Credentials.from_service_account_file(\n",
    "KEY_FILE, scopes=SCOPE)"
   ]
  },
  {
   "cell_type": "code",
   "execution_count": null,
   "metadata": {},
   "outputs": [],
   "source": [
    "#This authenticates your credentials on the google sheets\n",
    "gc = gspread.authorize(credentials)"
   ]
  },
  {
   "cell_type": "code",
   "execution_count": null,
   "metadata": {},
   "outputs": [],
   "source": [
    "#This is to ensure we have the appropriate sheet pulled in from google\n",
    "print('The following sheets are available')\n",
    "for sheet in gc.openall():\n",
    "    print ('{} - {}'.format(sheet.title,sheet.id))"
   ]
  },
  {
   "cell_type": "code",
   "execution_count": null,
   "metadata": {},
   "outputs": [],
   "source": [
    "#This allows you to access specific sheets, starting with creating a workbook\n",
    "workbook = gc.open(SPREADSHEET)\n",
    "\n",
    "#Read in individual sheets here and name how you please.\n",
    "sheet = workbook.sheet1"
   ]
  },
  {
   "cell_type": "code",
   "execution_count": null,
   "metadata": {},
   "outputs": [],
   "source": [
    "#This reads the sheet in as a dataframe\n",
    "df = pd.DataFrame(sheet.get_all_records())"
   ]
  },
  {
   "cell_type": "code",
   "execution_count": null,
   "metadata": {},
   "outputs": [],
   "source": [
    "#Changing column names to be more user friendly as a CSV file. Fill in the column_names section with your changes. eg:\n",
    "\n",
    "column_names = {'Timestamp': 'timestamp',\n",
    "               'Email Address': 'email',\n",
    "               'Sex': 'sex',\n",
    "               'Age': 'age',\n",
    "                }\n",
    "\n",
    "#This renames the column names and reformats the timestamp\n",
    "df.rename(columns=column_names, inplace=True)\n",
    "df.timestamp = pd.to_datetime(df.timestamp)"
   ]
  },
  {
   "cell_type": "code",
   "execution_count": null,
   "metadata": {},
   "outputs": [],
   "source": [
    "#To preview the dataframe created before saving it to a CSV file\n",
    "df.head()"
   ]
  },
  {
   "cell_type": "code",
   "execution_count": null,
   "metadata": {},
   "outputs": [],
   "source": [
    "#Insert path where you wish to save csv file for access here, after the 'r'\n",
    "path = r''\n",
    "\n",
    "#This saves the dataframe as a CSV format. insert the name of what you would like to save the file as after the 'r'\n",
    "df.to_csv(os.path.join(path,r''),index=False,na_rep='Unknown')"
   ]
  },
  {
   "cell_type": "code",
   "execution_count": null,
   "metadata": {},
   "outputs": [],
   "source": []
  }
 ],
 "metadata": {
  "kernelspec": {
   "display_name": "Python 3",
   "language": "python",
   "name": "python3"
  },
  "language_info": {
   "codemirror_mode": {
    "name": "ipython",
    "version": 3
   },
   "file_extension": ".py",
   "mimetype": "text/x-python",
   "name": "python",
   "nbconvert_exporter": "python",
   "pygments_lexer": "ipython3",
   "version": "3.8.3"
  }
 },
 "nbformat": 4,
 "nbformat_minor": 4
}
